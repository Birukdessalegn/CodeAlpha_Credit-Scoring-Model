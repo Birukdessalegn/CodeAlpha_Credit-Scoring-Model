{
 "cells": [
  {
   "cell_type": "code",
   "execution_count": null,
   "id": "8d6b6d66",
   "metadata": {},
   "outputs": [],
   "source": [
    "import joblib\n",
    "\n",
    "# Load the trained model\n",
    "model = joblib.load('credit_scoring_model.pkl')"
   ]
  }
 ],
 "metadata": {
  "kernelspec": {
   "display_name": "Python 3",
   "language": "python",
   "name": "python3"
  },
  "language_info": {
   "name": "python",
   "version": "3.13.2"
  }
 },
 "nbformat": 4,
 "nbformat_minor": 5
}
