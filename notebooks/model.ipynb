{
 "cells": [
  {
   "cell_type": "markdown",
   "id": "76ddd85c",
   "metadata": {},
   "source": [
    "\n",
    "## Model for Testing the Project\n"
   ]
  },
  {
   "cell_type": "code",
   "execution_count": 27,
   "id": "c0b2240b",
   "metadata": {},
   "outputs": [
    {
     "name": "stdout",
     "output_type": "stream",
     "text": [
      "Predicted loan status: 1\n"
     ]
    }
   ],
   "source": [
    "import joblib\n",
    "import pandas as pd\n",
    "\n",
    "# Load the trained model and scaler\n",
    "model = joblib.load('credit_scoring_model.pkl')\n",
    "scaler = joblib.load('scaler.pkl')  # Save your scaler during training with joblib.dump(scaler, 'scaler.pkl')\n",
    "\n",
    "# Load the feature columns used during training\n",
    "import pickle\n",
    "with open('feature_columns.pkl', 'rb') as f:\n",
    "    feature_columns = pickle.load(f)\n",
    "\n",
    "# Example: new applicant data as a DataFrame\n",
    "new_data = pd.DataFrame([{\n",
    "    'person_age': 30,\n",
    "    'person_income': 2000,\n",
    "    'person_emp_exp': 5,\n",
    "    'loan_amnt': 10000,\n",
    "    'loan_int_rate': 12.5,\n",
    "    'loan_percent_income': 0.2,\n",
    "    'cb_person_cred_hist_length': 4,\n",
    "    'credit_score': 650,\n",
    "    'person_gender_male': 1,  # Example for one-hot encoded columns\n",
    "    # ... include all other features as needed ...\n",
    "}])\n",
    "\n",
    "# Apply the same preprocessing as training\n",
    "new_data_encoded = pd.get_dummies(new_data, drop_first=True)\n",
    "new_data_encoded = new_data_encoded.reindex(columns=feature_columns, fill_value=0)\n",
    "new_data_scaled = scaler.transform(new_data_encoded)\n",
    "\n",
    "# Make prediction\n",
    "prediction = model.predict(new_data_scaled)\n",
    "print(\"Predicted loan status:\", prediction[0])"
   ]
  },
  {
   "cell_type": "markdown",
   "id": "66d33bda",
   "metadata": {},
   "source": [
    " So as you see the result gives 'Predicted loan status: 1 ' it means that it is high risky for giving loan to this person because its income and the amount(money) he asked to get is not fair or proportional"
   ]
  }
 ],
 "metadata": {
  "kernelspec": {
   "display_name": "Python 3",
   "language": "python",
   "name": "python3"
  },
  "language_info": {
   "codemirror_mode": {
    "name": "ipython",
    "version": 3
   },
   "file_extension": ".py",
   "mimetype": "text/x-python",
   "name": "python",
   "nbconvert_exporter": "python",
   "pygments_lexer": "ipython3",
   "version": "3.13.2"
  }
 },
 "nbformat": 4,
 "nbformat_minor": 5
}
