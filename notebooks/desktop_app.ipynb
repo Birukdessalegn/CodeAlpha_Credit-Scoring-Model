{
 "cells": [
  {
   "cell_type": "code",
   "execution_count": null,
   "id": "92509898",
   "metadata": {},
   "outputs": [],
   "source": [
    "import tkinter as tk\n",
    "from tkinter import messagebox\n",
    "import joblib\n",
    "import pandas as pd\n",
    "import pickle\n",
    "\n",
    "# Load model, scaler, and feature columns\n",
    "model = joblib.load('credit_scoring_model.pkl')\n",
    "scaler = joblib.load('scaler.pkl')\n",
    "with open('feature_columns.pkl', 'rb') as f:\n",
    "    feature_columns = pickle.load(f)\n",
    "\n",
    "def predict():\n",
    "    # Collect user input from entry fields\n",
    "    # Example: age = int(age_entry.get()), etc.\n",
    "    # Build a DataFrame with the input\n",
    "    # Preprocess as before (get_dummies, reindex, scale)\n",
    "    # Predict and show result\n",
    "    pass  # Fill in with your logic\n",
    "\n",
    "root = tk.Tk()\n",
    "root.title(\"Credit Scoring App\")\n",
    "\n",
    "# Add input fields and a button to call predict()\n",
    "# Example: tk.Entry(root), tk.Button(root, text=\"Predict\", command=predict)\n",
    "\n",
    "root.mainloop()"
   ]
  }
 ],
 "metadata": {
  "kernelspec": {
   "display_name": "Python 3",
   "language": "python",
   "name": "python3"
  },
  "language_info": {
   "codemirror_mode": {
    "name": "ipython",
    "version": 3
   },
   "file_extension": ".py",
   "mimetype": "text/x-python",
   "name": "python",
   "nbconvert_exporter": "python",
   "pygments_lexer": "ipython3",
   "version": "3.13.2"
  }
 },
 "nbformat": 4,
 "nbformat_minor": 5
}
